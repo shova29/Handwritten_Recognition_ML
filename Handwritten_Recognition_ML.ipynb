{
  "nbformat": 4,
  "nbformat_minor": 0,
  "metadata": {
    "colab": {
      "name": "Handwritten_Recognition_ML.ipynb",
      "provenance": [],
      "collapsed_sections": []
    },
    "kernelspec": {
      "name": "python3",
      "display_name": "Python 3"
    }
  },
  "cells": [
    {
      "cell_type": "markdown",
      "metadata": {
        "id": "D1pN4YS2EWhm"
      },
      "source": [
        "**Mounting the Google-Drive**"
      ]
    },
    {
      "cell_type": "code",
      "metadata": {
        "colab": {
          "base_uri": "https://localhost:8080/"
        },
        "id": "kKLe-uYBGELS",
        "outputId": "1aacd0b3-e5a5-42c2-c467-e4119733ddf8"
      },
      "source": [
        "from google.colab import drive\n",
        "drive.mount('/content/drive')"
      ],
      "execution_count": null,
      "outputs": [
        {
          "output_type": "stream",
          "text": [
            "Mounted at /content/drive\n"
          ],
          "name": "stdout"
        }
      ]
    },
    {
      "cell_type": "markdown",
      "metadata": {
        "id": "iv9J-FA0IaCm"
      },
      "source": [
        "**Loading the Data (Digits Dataset):**The digits dataset is one of datasets scikit-learn comes with that do not require the downloading of any file from some external website. The code below will load the digits dataset. Print to show there are 1797 images (8 by 8 images for a dimensionality of 64)"
      ]
    },
    {
      "cell_type": "code",
      "metadata": {
        "colab": {
          "base_uri": "https://localhost:8080/"
        },
        "id": "Yx7rksGA_Oe9",
        "outputId": "4972d4b6-ddfc-4af6-b5f5-a3a21dd59805"
      },
      "source": [
        "#importing the dataset\n",
        "from sklearn.datasets import load_digits\n",
        "digits = load_digits()\n",
        "print(\"Image Data Shape\" , digits.data.shape)"
      ],
      "execution_count": null,
      "outputs": [
        {
          "output_type": "stream",
          "text": [
            "Image Data Shape (1797, 64)\n"
          ],
          "name": "stdout"
        }
      ]
    },
    {
      "cell_type": "markdown",
      "metadata": {
        "id": "PeaFoLXLgXRe"
      },
      "source": [
        "**Showing the Images and the Labels (Digits Dataset):**\n",
        "This section is really just to show what the images and labels look like. It usually helps to visualize your data to see what you are working with."
      ]
    },
    {
      "cell_type": "code",
      "metadata": {
        "colab": {
          "base_uri": "https://localhost:8080/",
          "height": 283
        },
        "id": "Q9kxL6Sw4Jbc",
        "outputId": "786e1286-0a61-48ad-a9fd-01ff9439fc5c"
      },
      "source": [
        "import numpy as np \n",
        "import matplotlib.pyplot as plt\n",
        "\n",
        "plt.figure(figsize=(20,4))\n",
        "for index, (image, label) in enumerate(zip(digits.data[10:15], digits.target[10:15])):\n",
        "    plt.subplot(1, 5, index + 1)\n",
        "    plt.imshow(np.reshape(image, (8,8)), cmap=plt.cm.gray)\n",
        "    plt.title('Training: %i\\n' % label, fontsize = 20)"
      ],
      "execution_count": null,
      "outputs": [
        {
          "output_type": "display_data",
          "data": {
            "image/png": "[encoded data removed]",
            "text/plain": [
              "<Figure size 1440x288 with 5 Axes>"
            ]
          },
          "metadata": {
            "tags": [],
            "needs_background": "light"
          }
        }
      ]
    },
    {
      "cell_type": "markdown",
      "metadata": {
        "id": "s4dOpGTCgHIx"
      },
      "source": [
        "**Splitting Data into Training and Test Sets (Digits Dataset):**\n",
        "We make training and test sets to make sure that after we train our classification algorithm, it is able to generalize well to new data."
      ]
    },
    {
      "cell_type": "code",
      "metadata": {
        "id": "r7u-fo29_or2"
      },
      "source": [
        "from sklearn.model_selection import train_test_split\n",
        "x_train, x_test, y_train, y_test = train_test_split(digits.data, digits.target, test_size=0.35, random_state=0)"
      ],
      "execution_count": null,
      "outputs": []
    },
    {
      "cell_type": "markdown",
      "metadata": {
        "id": "6o7yK6eN5GK2"
      },
      "source": [
        "**Scikit-learn 4-Step Modeling Pattern (Digits Dataset):**\n",
        "\n",
        "Step 1. Importing the model that I want to use.In sklearn, all machine learning models are implemented as Python classes.\n",
        "\n",
        "Step 2. Making an instance of the  LogisticRegression,SupportVectorMachine and KNeighborsClassifier Model.\n",
        "\n",
        "Step 3. Training the model on the data, storing the information learned from the data.Model is learning the relationship between digits (x_train) and labels (y_train).\n",
        "\n",
        "Step 4. Predicting labels for new data (new images).Using the information the model learned during the model training process.Predicting for Multiple Observations (images) at Once.Makingpredictions on entire test data."
      ]
    },
    {
      "cell_type": "code",
      "metadata": {
        "colab": {
          "base_uri": "https://localhost:8080/"
        },
        "id": "ZwtnAUOQ_uoI",
        "outputId": "8affbab5-ff9a-4134-9e0f-39e19f061dfd"
      },
      "source": [
        "from sklearn.linear_model import LogisticRegression\n",
        "from sklearn import svm\n",
        "from sklearn.neighbors import KNeighborsClassifier\n",
        "logisticRegr = LogisticRegression()\n",
        "logisticRegr.fit(x_train, y_train)\n",
        "predictions = logisticRegr.predict(x_test)\n",
        "score = logisticRegr.score(x_test, y_test)\n",
        "print(score)\n",
        "\n",
        "svc = svm.SVC()\n",
        "svc.fit(x_train, y_train)\n",
        "predictions_svc = svc.predict(x_test)\n",
        "score_svc = svc.score(x_test, y_test)\n",
        "print(score_svc)\n",
        "\n",
        "knn=KNeighborsClassifier(n_neighbors=3)\n",
        "knn.fit(x_train,y_train)\n",
        "predictions_knn = knn.predict(x_test)\n",
        "score_knn = knn.score(x_test, y_test)\n",
        "print(score_knn)\n"
      ],
      "execution_count": null,
      "outputs": [
        {
          "output_type": "stream",
          "text": [
            "/usr/local/lib/python3.7/dist-packages/sklearn/linear_model/_logistic.py:940: ConvergenceWarning: lbfgs failed to converge (status=1):\n",
            "STOP: TOTAL NO. of ITERATIONS REACHED LIMIT.\n",
            "\n",
            "Increase the number of iterations (max_iter) or scale the data as shown in:\n",
            "    https://scikit-learn.org/stable/modules/preprocessing.html\n",
            "Please also refer to the documentation for alternative solver options:\n",
            "    https://scikit-learn.org/stable/modules/linear_model.html#logistic-regression\n",
            "  extra_warning_msg=_LOGISTIC_SOLVER_CONVERGENCE_MSG)\n"
          ],
          "name": "stderr"
        },
        {
          "output_type": "stream",
          "text": [
            "0.9523052464228935\n",
            "0.9872813990461049\n",
            "0.9825119236883942\n"
          ],
          "name": "stdout"
        }
      ]
    },
    {
      "cell_type": "markdown",
      "metadata": {
        "id": "-5BnhVTB6hZD"
      },
      "source": [
        "**Confusion Matrix:** A confusion matrix is a table that is often used to describe the peformance of a classification model (or classifier) on a set of test data for which the values are known. There are two(Seaborn and Matplotlib) python packages for making Confusion Matrix more understandable and visually appealing.So,importing the libraries.\n",
        "\n",
        "\n",
        "**Now, I do following steps:**\n",
        "1.Defining the figure size. In this case, I chose 9x9 size.\n",
        "\n",
        "2.Using HEATMAP class to generate a confusion matrix.\n",
        "\n",
        "3.Writing down x and y axis labels and plug in the score.\n"
      ]
    },
    {
      "cell_type": "code",
      "metadata": {
        "colab": {
          "base_uri": "https://localhost:8080/",
          "height": 569
        },
        "id": "sOuGFjlu_xdQ",
        "outputId": "15db5adf-7d5a-4e72-e6c6-c353d936a5d2"
      },
      "source": [
        "import matplotlib.pyplot as plt\n",
        "import seaborn as sns\n",
        "from sklearn import metrics\n",
        "cm = metrics.confusion_matrix(y_test, predictions_svc)\n",
        "plt.figure(figsize=(9,9))\n",
        "sns.heatmap(cm, annot=True, fmt=\"\", linewidths=.5);\n",
        "plt.ylabel('Actual label');\n",
        "plt.xlabel('Predicted label');\n",
        "all_sample_title = 'Accuracy Score: {0}'.format(score_svc)\n",
        "plt.title(all_sample_title, size = 15);"
      ],
      "execution_count": null,
      "outputs": [
        {
          "output_type": "display_data",
          "data": {
            "image/png": "[encoded data removed]",
            "text/plain": [
              "<Figure size 648x648 with 2 Axes>"
            ]
          },
          "metadata": {
            "tags": [],
            "needs_background": "light"
          }
        }
      ]
    },
    {
      "cell_type": "markdown",
      "metadata": {
        "id": "eKM-BP5KA982"
      },
      "source": [
        "I begin by instantiating the Classification Report of the KNN Classifier,it generates is as follows:"
      ]
    },
    {
      "cell_type": "code",
      "metadata": {
        "colab": {
          "base_uri": "https://localhost:8080/"
        },
        "id": "z7aKPfOo_0HW",
        "outputId": "37cb7287-87b2-4cf0-99e5-1e301f13a564"
      },
      "source": [
        "clf_r_knn=metrics.classification_report(y_test, predictions_knn)\n",
        "print(clf_r_knn)"
      ],
      "execution_count": null,
      "outputs": [
        {
          "output_type": "stream",
          "text": [
            "              precision    recall  f1-score   support\n",
            "\n",
            "           0       1.00      1.00      1.00        49\n",
            "           1       0.96      1.00      0.98        65\n",
            "           2       0.98      1.00      0.99        65\n",
            "           3       0.95      0.98      0.97        59\n",
            "           4       1.00      0.96      0.98        55\n",
            "           5       0.99      0.97      0.98        74\n",
            "           6       0.99      1.00      0.99        70\n",
            "           7       0.98      1.00      0.99        60\n",
            "           8       1.00      0.94      0.97        70\n",
            "           9       0.98      0.97      0.98        62\n",
            "\n",
            "    accuracy                           0.98       629\n",
            "   macro avg       0.98      0.98      0.98       629\n",
            "weighted avg       0.98      0.98      0.98       629\n",
            "\n"
          ],
          "name": "stdout"
        }
      ]
    },
    {
      "cell_type": "markdown",
      "metadata": {
        "id": "lW2bv4kwDUxG"
      },
      "source": [
        "I begin by instantiating the Classification Report of the SVM Classifier,it generates is as follows:"
      ]
    },
    {
      "cell_type": "code",
      "metadata": {
        "colab": {
          "base_uri": "https://localhost:8080/"
        },
        "id": "AUeQIVnzC87a",
        "outputId": "3f0cad84-3b14-441c-caa5-2ef33b31dee2"
      },
      "source": [
        "clf_r_svc=metrics.classification_report(y_test, predictions_svc)\n",
        "print(clf_r_svc)"
      ],
      "execution_count": null,
      "outputs": [
        {
          "output_type": "stream",
          "text": [
            "              precision    recall  f1-score   support\n",
            "\n",
            "           0       1.00      1.00      1.00        49\n",
            "           1       0.94      1.00      0.97        65\n",
            "           2       0.98      0.98      0.98        65\n",
            "           3       1.00      0.98      0.99        59\n",
            "           4       1.00      1.00      1.00        55\n",
            "           5       0.99      0.97      0.98        74\n",
            "           6       0.99      1.00      0.99        70\n",
            "           7       1.00      1.00      1.00        60\n",
            "           8       1.00      0.96      0.98        70\n",
            "           9       0.98      0.98      0.98        62\n",
            "\n",
            "    accuracy                           0.99       629\n",
            "   macro avg       0.99      0.99      0.99       629\n",
            "weighted avg       0.99      0.99      0.99       629\n",
            "\n"
          ],
          "name": "stdout"
        }
      ]
    },
    {
      "cell_type": "markdown",
      "metadata": {
        "id": "WuOffzcWDL7W"
      },
      "source": [
        "I begin by instantiating the Classification Report of the LogisticRegression Classifier,it generates is as follows:"
      ]
    },
    {
      "cell_type": "code",
      "metadata": {
        "colab": {
          "base_uri": "https://localhost:8080/"
        },
        "id": "ieS812RxDLY-",
        "outputId": "fde0e7d3-b8d6-4a17-d2b5-a5c76eb92e10"
      },
      "source": [
        "clf_r_lr=metrics.classification_report(y_test, predictions)\n",
        "print(clf_r_lr)"
      ],
      "execution_count": null,
      "outputs": [
        {
          "output_type": "stream",
          "text": [
            "              precision    recall  f1-score   support\n",
            "\n",
            "           0       0.98      1.00      0.99        49\n",
            "           1       0.87      0.95      0.91        65\n",
            "           2       0.98      0.94      0.96        65\n",
            "           3       0.94      0.98      0.96        59\n",
            "           4       0.96      0.98      0.97        55\n",
            "           5       0.97      0.95      0.96        74\n",
            "           6       0.97      0.97      0.97        70\n",
            "           7       0.98      0.97      0.97        60\n",
            "           8       0.97      0.87      0.92        70\n",
            "           9       0.91      0.94      0.92        62\n",
            "\n",
            "    accuracy                           0.95       629\n",
            "   macro avg       0.95      0.95      0.95       629\n",
            "weighted avg       0.95      0.95      0.95       629\n",
            "\n"
          ],
          "name": "stdout"
        }
      ]
    },
    {
      "cell_type": "markdown",
      "metadata": {
        "id": "j6za8ZxwCMqj"
      },
      "source": [
        "The Confusion Matrix of the KNN Classifier is as follows:"
      ]
    },
    {
      "cell_type": "code",
      "metadata": {
        "colab": {
          "base_uri": "https://localhost:8080/",
          "height": 308
        },
        "id": "oidVvZWCDKHZ",
        "outputId": "09a4d2c8-a3a8-416e-c35f-90a59a371100"
      },
      "source": [
        "dp= metrics.plot_confusion_matrix(knn, x_test, y_test)\n",
        "dp.figure_.suptitle(\"Confusion Matrix for KNN\")\n",
        "plt.show()"
      ],
      "execution_count": null,
      "outputs": [
        {
          "output_type": "display_data",
          "data": {
            "image/png": "[encoded data removed]",
            "text/plain": [
              "<Figure size 432x288 with 2 Axes>"
            ]
          },
          "metadata": {
            "tags": [],
            "needs_background": "light"
          }
        }
      ]
    },
    {
      "cell_type": "markdown",
      "metadata": {
        "id": "0OFRMBeUCQIR"
      },
      "source": [
        "The Confusion Matrix of LogisticRegression Classifier is as follows:"
      ]
    },
    {
      "cell_type": "code",
      "metadata": {
        "colab": {
          "base_uri": "https://localhost:8080/",
          "height": 308
        },
        "id": "gNP9cGmh_3F2",
        "outputId": "db3f3c7a-438b-4756-92ca-97fc6ab7a623"
      },
      "source": [
        "disp = metrics.plot_confusion_matrix(logisticRegr, x_test, y_test)\n",
        "disp.figure_.suptitle(\"Confusion Matrix for LogisticRegression\")\n",
        "plt.show()"
      ],
      "execution_count": null,
      "outputs": [
        {
          "output_type": "display_data",
          "data": {
            "image/png": "[encoded data removed]",
            "text/plain": [
              "<Figure size 432x288 with 2 Axes>"
            ]
          },
          "metadata": {
            "tags": [],
            "needs_background": "light"
          }
        }
      ]
    },
    {
      "cell_type": "markdown",
      "metadata": {
        "id": "vuvFt0FJCTMI"
      },
      "source": [
        "The Confusion Matrix of the SVM is as follows:"
      ]
    },
    {
      "cell_type": "code",
      "metadata": {
        "colab": {
          "base_uri": "https://localhost:8080/",
          "height": 308
        },
        "id": "dvoDQbagCsjr",
        "outputId": "c0a904a6-11f2-46e2-bb56-ca304308e9ac"
      },
      "source": [
        "display = metrics.plot_confusion_matrix(svc, x_test, y_test)\n",
        "display.figure_.suptitle(\"Confusion Matrix for SVM\")\n",
        "plt.show()"
      ],
      "execution_count": null,
      "outputs": [
        {
          "output_type": "display_data",
          "data": {
            "image/png": "[encoded data removed]",
            "text/plain": [
              "<Figure size 432x288 with 2 Axes>"
            ]
          },
          "metadata": {
            "tags": [],
            "needs_background": "light"
          }
        }
      ]
    },
    {
      "cell_type": "markdown",
      "metadata": {
        "id": "qpqYzwM-gJlH"
      },
      "source": [
        "After executing these Python instructions, we can verify that x_test.shape takes the form of (629, 64) where the first dimension indexes the image and the second indexes the pixel in each image (now the intensity of the pixel is a value between 0 and 1)."
      ]
    },
    {
      "cell_type": "code",
      "metadata": {
        "colab": {
          "base_uri": "https://localhost:8080/"
        },
        "id": "cpKBoMLj_6VC",
        "outputId": "7fa0cf75-8496-4ab8-cdf6-c9d7cf647602"
      },
      "source": [
        "x_test.shape"
      ],
      "execution_count": null,
      "outputs": [
        {
          "output_type": "execute_result",
          "data": {
            "text/plain": [
              "(629, 64)"
            ]
          },
          "metadata": {
            "tags": []
          },
          "execution_count": 13
        }
      ]
    },
    {
      "cell_type": "markdown",
      "metadata": {
        "id": "cLUiL2jfFlrK"
      },
      "source": [
        "**Setting the colormap to 'gray' on the x_test[10] along reshaping(8,8) matrix.This changes the default colormap as well as the colormap of the current image if there is one and testing the particular digit from the y_test[10].**"
      ]
    },
    {
      "cell_type": "code",
      "metadata": {
        "colab": {
          "base_uri": "https://localhost:8080/",
          "height": 283
        },
        "id": "Y2bGNxRH_8aq",
        "outputId": "50b01c74-061d-4816-b16c-a6b24b1d848b"
      },
      "source": [
        "testing=x_test[10].reshape(8,8)\n",
        "plt.imshow(testing)\n",
        "plt.gray()\n",
        "print('Label: ',y_test[10])"
      ],
      "execution_count": null,
      "outputs": [
        {
          "output_type": "stream",
          "text": [
            "Label:  2\n"
          ],
          "name": "stdout"
        },
        {
          "output_type": "display_data",
          "data": {
            "image/png": "[encoded data removed]",
            "text/plain": [
              "<Figure size 432x288 with 1 Axes>"
            ]
          },
          "metadata": {
            "tags": [],
            "needs_background": "light"
          }
        }
      ]
    },
    {
      "cell_type": "markdown",
      "metadata": {
        "id": "MAvd_JPsFngU"
      },
      "source": [
        "**To predict the K-Nearest Neighbors model on the particular digit(x_test[10]) along reshaping(1,-1).**"
      ]
    },
    {
      "cell_type": "code",
      "metadata": {
        "colab": {
          "base_uri": "https://localhost:8080/"
        },
        "id": "5W9qAW9L__MG",
        "outputId": "9b26eb24-8303-45ff-a5ae-f5f723c9109a"
      },
      "source": [
        "testing=x_test[10].reshape(1,-1)\n",
        "print(testing.shape)\n",
        "test_prediction=knn.predict(testing)\n",
        "print('Predicted Label: ',test_prediction)"
      ],
      "execution_count": null,
      "outputs": [
        {
          "output_type": "stream",
          "text": [
            "(1, 64)\n",
            "Predicted Label:  [2]\n"
          ],
          "name": "stdout"
        }
      ]
    },
    {
      "cell_type": "markdown",
      "metadata": {
        "id": "DhFa3fdQfYkE"
      },
      "source": [
        "**scikit-image** (a.k.a. skimage) is a collection of algorithms for image processing and computer vision.The main package of skimage only provides a few utilities for converting between image data types,for most features to import one of the following subpackages like **io** (io means Reading, saving, and displaying images and video).\n",
        "\n",
        "***Reading the image from the folder of the Google-drive and displaying it.***"
      ]
    },
    {
      "cell_type": "code",
      "metadata": {
        "colab": {
          "base_uri": "https://localhost:8080/",
          "height": 285
        },
        "id": "Qtj3kQIHACDY",
        "outputId": "d14339a6-ffff-4696-b66e-1a0c82aea345"
      },
      "source": [
        "from skimage import io\n",
        "testing=io.imread('/content/drive/MyDrive/Colab Notebooks/6.png', as_gray=True)\n",
        "io.imshow(testing)"
      ],
      "execution_count": null,
      "outputs": [
        {
          "output_type": "execute_result",
          "data": {
            "text/plain": [
              "<matplotlib.image.AxesImage at 0x7fb7e7995bd0>"
            ]
          },
          "metadata": {
            "tags": []
          },
          "execution_count": 41
        },
        {
          "output_type": "display_data",
          "data": {
            "image/png": "[encoded data removed]",
            "text/plain": [
              "<Figure size 432x288 with 1 Axes>"
            ]
          },
          "metadata": {
            "tags": [],
            "needs_background": "light"
          }
        }
      ]
    },
    {
      "cell_type": "markdown",
      "metadata": {
        "id": "hAuRknbrFphU"
      },
      "source": [
        "**skimage.transform.resize(image, output_shape):** Resize image to match a certain size.\n",
        "\n",
        "**Here,I importing resize library from skimage for resizing the images and displaying it:**"
      ]
    },
    {
      "cell_type": "code",
      "metadata": {
        "colab": {
          "base_uri": "https://localhost:8080/",
          "height": 283
        },
        "id": "1_zYed9MAFEk",
        "outputId": "0d5a276c-c2e9-42f5-bb29-5be9aa812abb"
      },
      "source": [
        "from skimage.transform import resize\n",
        "testing1=resize(testing,(8,8))\n",
        "plt.imshow(testing1)"
      ],
      "execution_count": null,
      "outputs": [
        {
          "output_type": "execute_result",
          "data": {
            "text/plain": [
              "<matplotlib.image.AxesImage at 0x7fb7e7904910>"
            ]
          },
          "metadata": {
            "tags": []
          },
          "execution_count": 42
        },
        {
          "output_type": "display_data",
          "data": {
            "image/png": "[encoded data removed]",
            "text/plain": [
              "<Figure size 432x288 with 1 Axes>"
            ]
          },
          "metadata": {
            "tags": [],
            "needs_background": "light"
          }
        }
      ]
    },
    {
      "cell_type": "markdown",
      "metadata": {
        "id": "eH4mBRmNFrdu"
      },
      "source": [
        "**To predict the SVM model on the particular digit x_test[13] along reshaping(1,-1).**"
      ]
    },
    {
      "cell_type": "code",
      "metadata": {
        "colab": {
          "base_uri": "https://localhost:8080/"
        },
        "id": "vyDHzVl3AHYw",
        "outputId": "0ba030ed-1487-4b05-ce69-52aaf9a0bcb2"
      },
      "source": [
        "testing=x_test[13].reshape(1,-1)\n",
        "print(testing.shape)\n",
        "test_prediction=svc.predict(testing)\n",
        "print('Predicted Label: ',test_prediction)"
      ],
      "execution_count": null,
      "outputs": [
        {
          "output_type": "stream",
          "text": [
            "(1, 64)\n",
            "Predicted Label:  [6]\n"
          ],
          "name": "stdout"
        }
      ]
    },
    {
      "cell_type": "markdown",
      "metadata": {
        "id": "d4OfhTpBFt7L"
      },
      "source": [
        "**Again, reading the image from the folder of the Google-drive and displaying it.**"
      ]
    },
    {
      "cell_type": "code",
      "metadata": {
        "colab": {
          "base_uri": "https://localhost:8080/",
          "height": 285
        },
        "id": "g1ivcjUAJ76N",
        "outputId": "0ce4ba6a-2e71-4d8a-c83c-4c62c9ba51b2"
      },
      "source": [
        "from skimage import io\n",
        "testing_1=io.imread('/content/drive/MyDrive/Colab Notebooks/9.png', as_gray=True)\n",
        "io.imshow(testing_1)"
      ],
      "execution_count": null,
      "outputs": [
        {
          "output_type": "execute_result",
          "data": {
            "text/plain": [
              "<matplotlib.image.AxesImage at 0x7fb7e78ecb90>"
            ]
          },
          "metadata": {
            "tags": []
          },
          "execution_count": 43
        },
        {
          "output_type": "display_data",
          "data": {
            "image/png": "[encoded data removed]",
            "text/plain": [
              "<Figure size 432x288 with 1 Axes>"
            ]
          },
          "metadata": {
            "tags": [],
            "needs_background": "light"
          }
        }
      ]
    },
    {
      "cell_type": "markdown",
      "metadata": {
        "id": "3GUUZfJvFvT0"
      },
      "source": [
        "**skimage.transform.resize(image, output_shape):** Resize image to match a certain size.\n",
        "\n",
        "**Here,I importing resize library from skimage for resizing the images and displaying it:**"
      ]
    },
    {
      "cell_type": "code",
      "metadata": {
        "colab": {
          "base_uri": "https://localhost:8080/",
          "height": 283
        },
        "id": "RnIdIaHVKGAZ",
        "outputId": "be6d1676-e184-41c0-a746-20115847e894"
      },
      "source": [
        "from skimage.transform import resize\n",
        "testing_1=resize(testing_1,(8,8))\n",
        "plt.imshow(testing_1)"
      ],
      "execution_count": null,
      "outputs": [
        {
          "output_type": "execute_result",
          "data": {
            "text/plain": [
              "<matplotlib.image.AxesImage at 0x7fb7e7863890>"
            ]
          },
          "metadata": {
            "tags": []
          },
          "execution_count": 44
        },
        {
          "output_type": "display_data",
          "data": {
            "image/png": "[encoded data removed]",
            "text/plain": [
              "<Figure size 432x288 with 1 Axes>"
            ]
          },
          "metadata": {
            "tags": [],
            "needs_background": "light"
          }
        }
      ]
    },
    {
      "cell_type": "markdown",
      "metadata": {
        "id": "QabyJolZFxGv"
      },
      "source": [
        "**To predict the SVM model on the particular digit x_test[50] along reshaping(1,-1).**"
      ]
    },
    {
      "cell_type": "code",
      "metadata": {
        "colab": {
          "base_uri": "https://localhost:8080/"
        },
        "id": "SZK0ijXaKNtv",
        "outputId": "24d3879a-6ff1-4b20-ec80-e229fb5388b7"
      },
      "source": [
        "testing_1=x_test[50].reshape(1,-1)\n",
        "print(testing_1.shape)\n",
        "test_prediction_1=svc.predict(testing_1)\n",
        "print('Predicted Label: ',test_prediction_1)"
      ],
      "execution_count": null,
      "outputs": [
        {
          "output_type": "stream",
          "text": [
            "(1, 64)\n",
            "Predicted Label:  [9]\n"
          ],
          "name": "stdout"
        }
      ]
    },
    {
      "cell_type": "markdown",
      "metadata": {
        "id": "hEFLXtDZFz8s"
      },
      "source": [
        "**To predict the Logistic Regression model on the particular digit x_test[13] along reshaping(1,-1).**"
      ]
    },
    {
      "cell_type": "code",
      "metadata": {
        "colab": {
          "base_uri": "https://localhost:8080/"
        },
        "id": "DpfVUH9MMIYm",
        "outputId": "8acf8018-888e-4099-feed-1d57c8617144"
      },
      "source": [
        "testing_1=x_test[50].reshape(1,-1)\n",
        "print(testing_1.shape)\n",
        "test_prediction_2=logisticRegr.predict(testing_1)\n",
        "print('Predicted Label: ',test_prediction_2)"
      ],
      "execution_count": null,
      "outputs": [
        {
          "output_type": "stream",
          "text": [
            "(1, 64)\n",
            "Predicted Label:  [9]\n"
          ],
          "name": "stdout"
        }
      ]
    }
  ]
}